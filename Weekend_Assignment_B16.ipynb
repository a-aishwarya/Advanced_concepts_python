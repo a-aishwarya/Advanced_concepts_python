{
 "cells": [
  {
   "cell_type": "markdown",
   "metadata": {},
   "source": [
    "#Activity1 (Restaurant Activity)"
   ]
  },
  {
   "cell_type": "code",
   "execution_count": 1,
   "metadata": {},
   "outputs": [],
   "source": [
    "class Restaurant:\n",
    "    def __init__(self,res_name, cuisine_type):\n",
    "        self.res_name=res_name\n",
    "        self.cuisine_type=cuisine_type\n",
    "        \n",
    "    def describe_restaurant(self):\n",
    "        print(f\"Here I am referring to {self.res_name} which is popular for its {self.cuisine_type} cuisine\")\n",
    "    \n",
    "    def open_restaurant(self,state):\n",
    "        self.state=state\n",
    "        print(f\"The restaurant is {self.state}\")\n",
    "        \n",
    "        "
   ]
  },
  {
   "cell_type": "code",
   "execution_count": 2,
   "metadata": {},
   "outputs": [
    {
     "name": "stdout",
     "output_type": "stream",
     "text": [
      "Royal Sky\n",
      "Indian\n",
      "Here I am referring to Royal Sky which is popular for its Indian cuisine\n",
      "The restaurant is open\n"
     ]
    }
   ],
   "source": [
    "restaurant=Restaurant(\"Royal Sky\",\"Indian\")\n",
    "\n",
    "print(restaurant.res_name)\n",
    "print(restaurant.cuisine_type)\n",
    "\n",
    "restaurant.describe_restaurant()\n",
    "restaurant.open_restaurant(\"open\")"
   ]
  },
  {
   "cell_type": "markdown",
   "metadata": {},
   "source": [
    "#Activity2(Icecream Stand)"
   ]
  },
  {
   "cell_type": "code",
   "execution_count": 3,
   "metadata": {},
   "outputs": [],
   "source": [
    "class IceCreamStand(Restaurant):\n",
    "    pass\n",
    "    def display_flavour(self):\n",
    "        flavours=[]\n",
    "        n=int(input(\"Enter the number of flavours \"))\n",
    "        for x in range(0,n):\n",
    "            fl=input(\"Input the flavour \")\n",
    "            flavours.append(fl)\n",
    "    \n",
    "        print(flavours)  \n",
    "    "
   ]
  },
  {
   "cell_type": "code",
   "execution_count": 4,
   "metadata": {},
   "outputs": [
    {
     "name": "stdout",
     "output_type": "stream",
     "text": [
      "Aryans\n",
      "Continental\n",
      "Enter the number of flavours 4\n",
      "Input the flavour Strawberry\n",
      "Input the flavour Chocolate\n",
      "Input the flavour Vanilla\n",
      "Input the flavour Mint Chocolate\n",
      "['Strawberry', 'Chocolate', 'Vanilla', 'Mint Chocolate']\n"
     ]
    }
   ],
   "source": [
    "iceCreamStand= IceCreamStand(\"Aryans\",\"Continental\")\n",
    "print(iceCreamStand.res_name)\n",
    "print(iceCreamStand.cuisine_type)\n",
    "iceCreamStand.display_flavour()"
   ]
  },
  {
   "cell_type": "code",
   "execution_count": null,
   "metadata": {},
   "outputs": [],
   "source": [
    "\n",
    "\n"
   ]
  },
  {
   "cell_type": "code",
   "execution_count": null,
   "metadata": {},
   "outputs": [],
   "source": [
    "\n",
    "    "
   ]
  },
  {
   "cell_type": "code",
   "execution_count": null,
   "metadata": {},
   "outputs": [],
   "source": []
  },
  {
   "cell_type": "code",
   "execution_count": null,
   "metadata": {},
   "outputs": [],
   "source": []
  }
 ],
 "metadata": {
  "kernelspec": {
   "display_name": "Python 3",
   "language": "python",
   "name": "python3"
  },
  "language_info": {
   "codemirror_mode": {
    "name": "ipython",
    "version": 3
   },
   "file_extension": ".py",
   "mimetype": "text/x-python",
   "name": "python",
   "nbconvert_exporter": "python",
   "pygments_lexer": "ipython3",
   "version": "3.7.6"
  }
 },
 "nbformat": 4,
 "nbformat_minor": 4
}
