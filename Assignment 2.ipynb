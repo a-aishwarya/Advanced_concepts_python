{
 "cells": [
  {
   "cell_type": "markdown",
   "metadata": {},
   "source": [
    "# Assignment 2"
   ]
  },
  {
   "cell_type": "code",
   "execution_count": null,
   "metadata": {},
   "outputs": [],
   "source": [
    "#make_shirt function"
   ]
  },
  {
   "cell_type": "code",
   "execution_count": 7,
   "metadata": {},
   "outputs": [
    {
     "name": "stdout",
     "output_type": "stream",
     "text": [
      "The size of the tshirt is: L and the text that needs to be printed is:\n",
      "hello there\n",
      "The size of the tshirt is: L and the text that needs to be printed is: Hello there\n"
     ]
    }
   ],
   "source": [
    "def make_shirt(size,text):\n",
    "    print(f\"The size of the tshirt is: {size} and the text that needs to be printed is:{text}\")\n",
    "make_shirt(\"L\",\"\\nhello there\")\n",
    "make_shirt(text=\" Hello there\",size=\"L\")\n",
    "    "
   ]
  },
  {
   "cell_type": "code",
   "execution_count": null,
   "metadata": {},
   "outputs": [],
   "source": [
    "#Modified for large shirts"
   ]
  },
  {
   "cell_type": "code",
   "execution_count": 10,
   "metadata": {},
   "outputs": [
    {
     "name": "stdout",
     "output_type": "stream",
     "text": [
      "The size of the tshirt is: L and the text that needs to be printed is:I love python\n",
      "The size of the tshirt is: M and the text that needs to be printed is:I love python\n",
      "The size of the tshirt is: S and the text that needs to be printed is:I am looking forward to upskill myself\n"
     ]
    }
   ],
   "source": [
    "def make_shirt(size=\"L\",text=\"I love python\"):\n",
    "    print(f\"The size of the tshirt is: {size} and the text that needs to be printed is:{text}\")\n",
    "make_shirt()\n",
    "make_shirt(\"M\")\n",
    "make_shirt(\"S\",\"I am looking forward to upskill myself\")\n"
   ]
  },
  {
   "cell_type": "code",
   "execution_count": null,
   "metadata": {},
   "outputs": [],
   "source": [
    "#describe_city funtion"
   ]
  },
  {
   "cell_type": "code",
   "execution_count": 13,
   "metadata": {},
   "outputs": [
    {
     "name": "stdout",
     "output_type": "stream",
     "text": [
      "Bangalore is in India\n",
      "Lucknow is in India\n",
      "New York is in India\n"
     ]
    }
   ],
   "source": [
    "def describe_city(name,country=\"India\"):\n",
    "    print(f\"{name} is in {country}\")\n",
    "    \n",
    "describe_city(\"Bangalore\")\n",
    "describe_city(\"Lucknow\")\n",
    "describe_city(\"New York\")"
   ]
  },
  {
   "cell_type": "code",
   "execution_count": null,
   "metadata": {},
   "outputs": [],
   "source": []
  }
 ],
 "metadata": {
  "kernelspec": {
   "display_name": "Python 3",
   "language": "python",
   "name": "python3"
  },
  "language_info": {
   "codemirror_mode": {
    "name": "ipython",
    "version": 3
   },
   "file_extension": ".py",
   "mimetype": "text/x-python",
   "name": "python",
   "nbconvert_exporter": "python",
   "pygments_lexer": "ipython3",
   "version": "3.7.6"
  }
 },
 "nbformat": 4,
 "nbformat_minor": 4
}
